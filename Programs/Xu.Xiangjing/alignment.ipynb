{
 "cells": [
  {
   "metadata": {
    "ExecuteTime": {
     "end_time": "2024-10-17T09:02:13.065377Z",
     "start_time": "2024-10-17T09:02:09.493876Z"
    }
   },
   "cell_type": "code",
   "source": [
    "import sunpy.map\n",
    "import os\n",
    "import re\n",
    "from datetime import datetime\n",
    "import matplotlib.pyplot as plt\n",
    "from astropy.coordinates import SkyCoord\n",
    "import astropy.units as u\n",
    "from astropy.io import fits\n",
    "from matplotlib.colors import LogNorm, Normalize\n",
    "import image_registration\n",
    "from PIL import Image\n",
    "from IPython.display import HTML\n",
    "from concurrent.futures import ThreadPoolExecutor, as_completed\n",
    "from tqdm.notebook import tqdm\n",
    "import time\n",
    "import itertools\n",
    "import numpy as np\n",
    "import cv2\n",
    "%matplotlib notebook"
   ],
   "id": "da3ae711320d6b4f",
   "outputs": [],
   "execution_count": 1
  },
  {
   "metadata": {
    "ExecuteTime": {
     "end_time": "2024-10-17T09:02:13.075391Z",
     "start_time": "2024-10-17T09:02:13.065377Z"
    }
   },
   "cell_type": "code",
   "source": [
    "file_path = \"E:/python/projects/alfven/data/hrieuvopn/offset_data/10moving/\"\n",
    "files = [os.path.abspath(os.path.join(file_path, file)) for file in os.listdir(file_path) if file.endswith('.fits')]\n",
    "def extract_datetime(file_name):\n",
    "    match = re.search(r'\\d{8}T\\d{6}', file_name)\n",
    "    if match:\n",
    "        return datetime.strptime(match.group(), '%Y%m%dT%H%M%S')\n",
    "    else:\n",
    "        return datetime.min\n",
    "\n",
    "files = sorted(files, key=extract_datetime)\n",
    "file_fsi = \"E:/python/projects/alfven/data/solo_L2_eui-fsi174-image_20220330T042045225_V02.fits\"\n",
    "file_fsi_L1 = \"E:/python/projects/alfven/data/solo_L1_eui-fsi174-image_20220330T042045225_V02.fits\""
   ],
   "id": "b9cf58a6eeaa46f1",
   "outputs": [],
   "execution_count": 2
  },
  {
   "metadata": {},
   "cell_type": "markdown",
   "source": "定义一些绘图函数",
   "id": "3c8ebd2afa5cfeba"
  },
  {
   "metadata": {
    "ExecuteTime": {
     "end_time": "2024-10-17T09:02:13.085389Z",
     "start_time": "2024-10-17T09:02:13.075391Z"
    }
   },
   "cell_type": "code",
   "source": [
    "# 绘制图像\n",
    "def draw_hri_fig(hri_map, rotate=False, **kwargs):\n",
    "    \"\"\"\n",
    "    绘制sunpy.map.Map对象图像\n",
    "    :param hri_map: 文件名或sunpy.map.Map对象\n",
    "    :param rotate: bool，True则按照CROTA对图像进行旋转\n",
    "    :param kwargs: 传递给sunpy.map.Map.plot()方法的其他参数\n",
    "    :return: none\n",
    "    \"\"\"\n",
    "    if type(hri_map) == str:\n",
    "        hri_map = sunpy.map.Map(hri_map)\n",
    "    if rotate:\n",
    "        hri_map = hri_map.rotate()\n",
    "    fig = plt.figure()\n",
    "    ax = fig.add_subplot(projection=hri_map)\n",
    "    hri_map.plot(axes=ax, **kwargs)\n",
    "    \n",
    "# 绘制submap\n",
    "def get_submap(hri_map, c_x, c_y, l, draw=True, **kwargs):\n",
    "    \"\"\"\n",
    "    得到sunpy.map.Map对象图像的正方形submap\n",
    "    :param hri_map: 文件名或sunpy.map.Map对象\n",
    "    :param c_x: submap中心处的角秒横坐标\n",
    "    :param c_y: submap中心处的角秒纵坐标\n",
    "    :param l: 正方形图像的像素\n",
    "    :param draw: bool，若为True则会绘制submap\n",
    "    :param kwargs: 传递给sunpy.map.Map.plot()方法的其他参数\n",
    "    :return: 原map的submap，sunpy.map.Map对象\n",
    "    \"\"\"\n",
    "    if type(hri_map) == str:\n",
    "        hri_map = sunpy.map.Map(hri_map)\n",
    "    \n",
    "    origin = SkyCoord(c_x*u.arcsec, c_y*u.arcsec, frame=hri_map.coordinate_frame)\n",
    "    out_shape = (l, l)\n",
    "    out_header = sunpy.map.make_fitswcs_header(\n",
    "        out_shape,\n",
    "        origin,\n",
    "        scale=[0.492, 0.492]*u.arcsec/u.pix,\n",
    "        projection_code=\"TAN\"\n",
    "    )\n",
    "    supplement_list = [\n",
    "        'DSUN_OBS',\n",
    "        'RSUN_OBS',\n",
    "        'RSUN_ARC',\n",
    "        'FILENAME'\n",
    "    ]\n",
    "    unit_trasnform = {\n",
    "        'CUNIT1': 'arcsec',\n",
    "        'CUNIT2': 'arcsec',\n",
    "        'CDELT1': 0.492,\n",
    "        'CDELT2': 0.492,\n",
    "        'CRVAL1': c_x,\n",
    "        'CRVAL2': c_y\n",
    "        }\n",
    "    \n",
    "    out_map = hri_map.reproject_to(out_header)\n",
    "    for key in supplement_list:\n",
    "        out_map.meta[key] = hri_map.meta[key]\n",
    "    for key, value in unit_trasnform.items():\n",
    "        out_map.meta[key] = value\n",
    "        \n",
    "    if draw:\n",
    "        draw_hri_fig(out_map, **kwargs)\n",
    "    \n",
    "    return out_map\n",
    "\n",
    "# 移动图像\n",
    "def offset_map(hri_map, offset, draw=False, unit='pix', **kwargs):\n",
    "    \"\"\"\n",
    "    对图像进行平移\n",
    "    :param hri_map: 文件名或sunpy.map.Map对象\n",
    "    :param offset: 横纵坐标的平移量\n",
    "    :param draw: bool，True则绘制平移后的图像\n",
    "    :param unit: pix或arcsec \n",
    "    :param kwargs: 传递给sunpy.map.Map.plot()方法的其他参数\n",
    "    :return: 平移后的map，sunpy.map.Map对象\n",
    "    \"\"\"\n",
    "    if type(hri_map) == str:\n",
    "        hdu = fits.open(hri_map)\n",
    "        header = hdu[-1].header\n",
    "        data = hdu[-1].data\n",
    "    else:\n",
    "        header = hri_map.fits_header\n",
    "        data = hri_map.data\n",
    "        \n",
    "    if unit == 'pix':\n",
    "        cdelt = header['CDELT1']\n",
    "        offset = [o*cdelt for o in offset]\n",
    "    \n",
    "    header['CRVAL1'] += offset[0]\n",
    "    header['CRVAL2'] += offset[1]\n",
    "    \n",
    "    offset_hri_map = sunpy.map.Map(data, header)\n",
    "    \n",
    "    if draw:\n",
    "        draw_hri_fig(offset_hri_map, **kwargs)\n",
    "    \n",
    "    return offset_hri_map\n",
    "\n",
    "# 循环显示需要比较的两张图  \n",
    "def compare_gif(fsi, hri, filename_gif, c_x=-100, c_y=-2800, l=2500, offset=None, unit='pix'):\n",
    "    \"\"\"\n",
    "    将hri图像和fsi图像在一个动图中循环展示，进行肉眼比较\n",
    "    :param fsi: fsi数据的文件名或sunpy.map.Map对象\n",
    "    :param hri: hri数据的文件名或sunpy.map.Map对象\n",
    "    :param filename_gif: 动图的保存位置\n",
    "    :param c_x: submap中心处的角秒横坐标\n",
    "    :param c_y: submap中心处的角秒纵坐标\n",
    "    :param l: 正方形图像的像素\n",
    "    :param offset: 将hri图像进行像素偏移的横纵坐标元组，默认为none\n",
    "    :return: HTML对象，用于在notebook展示动图\n",
    "    :param unit: pix或arcsec\n",
    "    \"\"\"\n",
    "    if type(fsi) == str:\n",
    "        fsi = get_submap(fsi, c_x=c_x, c_y=c_y, l=l, draw=False)\n",
    "\n",
    "    if offset is not None:\n",
    "        hri = offset_map(hri, offset, unit=unit)\n",
    "        hri = get_submap(hri, c_x=c_x, c_y=c_y, l=l, draw=False)\n",
    "    else:\n",
    "        if type(hri) == str:\n",
    "            hri = get_submap(hri, c_x=c_x, c_y=c_y, l=l, draw=False)\n",
    "        \n",
    "    with plt.ioff():\n",
    "        fig = plt.figure()\n",
    "        ax = plt.subplot(projection=fsi)\n",
    "        fsi.plot(axes=ax, norm=Normalize(), cmap='sdoaia171')\n",
    "        fig.savefig('./fig/fsi.png', dpi=300)\n",
    "        ax.clear()\n",
    "\n",
    "        ax = fig.add_subplot(projection=hri)\n",
    "        hri.plot(axes=ax, norm=Normalize(), cmap='sdoaia171')\n",
    "        fig.savefig('./fig/hri.png', dpi=300)\n",
    "    \n",
    "        image_files = ['./fig/fsi.png', './fig/hri.png']\n",
    "\n",
    "        images = [Image.open(image) for image in image_files]\n",
    "\n",
    "        images[0].save(filename_gif, save_all=True, append_images=images[1:], duration=500, loop=0)\n",
    "        \n",
    "    current_directory = os.getcwd()\n",
    "    relative_path = os.path.relpath(filename_gif, current_directory)\n",
    "    timestamp = int(time.time())\n",
    "    \n",
    "    return HTML(f'<img src={relative_path}?{timestamp} height=\"480\">')"
   ],
   "id": "7777f99aa4a12930",
   "outputs": [],
   "execution_count": 3
  },
  {
   "metadata": {},
   "cell_type": "markdown",
   "source": "预览图像，找一个比较合适的图像范围进行比较",
   "id": "2422e6f29688fa8b"
  },
  {
   "metadata": {},
   "cell_type": "code",
   "source": "draw_hri_fig(files[0], rotate=True)",
   "id": "f5139685b3e3018b",
   "outputs": [],
   "execution_count": null
  },
  {
   "metadata": {},
   "cell_type": "markdown",
   "source": "取中心坐标(-100, -2700), 边长为1200像素（约600arcsec）的正方形",
   "id": "206a3815465f1a39"
  },
  {
   "metadata": {},
   "cell_type": "code",
   "source": "_ = get_submap(file_fsi, c_x=-100, c_y=-2700, l=1200, norm=Normalize())",
   "id": "1fdbbb797f34e0b1",
   "outputs": [],
   "execution_count": null
  },
  {
   "metadata": {},
   "cell_type": "markdown",
   "source": "# 使用chi2_shift进行比较",
   "id": "8a8e2ecdfe0bccb2"
  },
  {
   "metadata": {
    "ExecuteTime": {
     "end_time": "2024-10-12T14:19:17.646387Z",
     "start_time": "2024-10-12T14:19:10.202905Z"
    }
   },
   "cell_type": "code",
   "source": [
    "data1 = get_submap(files[0], c_x=-100, c_y=-2700, l=1200, draw=False).data\n",
    "data2 = get_submap(files[100], c_x=-100, c_y=-2700, l=1200, draw=False).data\n",
    "# 归到0-255的范围\n",
    "scale_data1 = (data1 - np.min(data1)) / (np.max(data1) - np.min(data1)) * 255\n",
    "scale_data2 = (data2 - np.min(data2)) / (np.max(data2) - np.min(data2)) * 255\n",
    "\n",
    "dx, dy = image_registration.chi2_shift(scale_data1, scale_data2, return_error=False, zeromean=True, max_auto_size=9600)"
   ],
   "id": "de49d640b5174aa7",
   "outputs": [],
   "execution_count": 6
  },
  {
   "metadata": {},
   "cell_type": "markdown",
   "source": "绘制强度分布图",
   "id": "3bb118cbcfcacf22"
  },
  {
   "metadata": {},
   "cell_type": "code",
   "source": [
    "flat_data1 = data1.flatten()\n",
    "flat_data2 = data2.flatten()\n",
    "fig, ax = plt.subplots(figsize=(7, 4))\n",
    "_ = ax.hist(flat_data1, bins='auto', density=True, alpha=0.5, color='blue', label='hri intensity')\n",
    "_ = ax.hist(flat_data2, bins='auto', density=True, alpha=0.5, color='green', label='fsi intensity')\n",
    "ax.grid()\n",
    "ax.set_title('hri and fsi intensity probability')\n",
    "ax.set_xlabel('intensity')\n",
    "ax.set_ylabel('probability')\n",
    "ax.legend(loc='upper right')\n",
    "fig.savefig('./fig/probability.png', dpi=300)"
   ],
   "id": "4afa1834961733ac",
   "outputs": [],
   "execution_count": null
  },
  {
   "metadata": {},
   "cell_type": "markdown",
   "source": "归到0-255",
   "id": "7284104a3a6f0f03"
  },
  {
   "metadata": {},
   "cell_type": "code",
   "source": [
    "flat_scale_data1 = scale_data1.flatten()\n",
    "flat_scale_data2 = scale_data2.flatten()\n",
    "fig, ax = plt.subplots(figsize=(7, 4))\n",
    "_ = ax.hist(flat_scale_data1, bins='auto', density=True, alpha=0.5, color='blue', label='hri scaled intensity')\n",
    "_ = ax.hist(flat_scale_data2, bins='auto', density=True, alpha=0.5, color='green', label='fsi scaled intensity')\n",
    "ax.grid()\n",
    "ax.set_title('hri and fsi scaled intensity probability')\n",
    "ax.set_xlabel('intensity')\n",
    "ax.set_ylabel('probability')\n",
    "ax.legend(loc='upper right')\n",
    "fig.savefig('./fig/probability.png', dpi=300)"
   ],
   "id": "f00b6e7537f33b63",
   "outputs": [],
   "execution_count": null
  },
  {
   "metadata": {},
   "cell_type": "code",
   "source": "compare_gif(file_fsi, files[0], 'E:/python/projects/alfven/fig/compare.gif', offset=(dx, dy), c_x=-200, c_y=-2800, l=1600)",
   "id": "13c07bc563aa3d96",
   "outputs": [],
   "execution_count": null
  },
  {
   "metadata": {},
   "cell_type": "code",
   "source": "compare_gif(file_fsi, files[0], 'E:/python/projects/alfven/fig/compare_no_offset.gif', c_x=-200, c_y=-2800, l=1600)",
   "id": "82b57ecb536f9c4",
   "outputs": [],
   "execution_count": null
  },
  {
   "metadata": {},
   "cell_type": "markdown",
   "source": "定义一个函数，用于将hri图像转换到正确坐标下",
   "id": "633d55a8e0205796"
  },
  {
   "metadata": {},
   "cell_type": "code",
   "source": [
    "def offset_hri(hri_file, fsi_file, c_x=-200, c_y=-2600, l=800, savepath=None, return_map=False):\n",
    "    hri_data = get_submap(hri_file, c_x=c_x, c_y=c_y, l=l, draw=False).data\n",
    "    fsi_data = get_submap(fsi_file, c_x=c_x, c_y=c_y, l=l, draw=False).data\n",
    "    offset_pix_x, offset_pix_y = image_registration.chi2_shift(hri_data, fsi_data, return_error=False)\n",
    "    offset_hri_map = offset_map(hri_file, offset=(offset_pix_x, offset_pix_y))\n",
    "    transformed_hri_map = get_submap(offset_hri_map, c_x=-100, c_y=-2800, l=2500, draw=False)\n",
    "    filename = os.path.join(savepath, transformed_hri_map.fits_header['FILENAME'])\n",
    "    if savepath is not None:\n",
    "        transformed_hri_map.save(filename, filetype='fits', overwrite=True)\n",
    "    if return_map:\n",
    "        return transformed_hri_map"
   ],
   "id": "e9501c03c05ef52",
   "outputs": [],
   "execution_count": null
  },
  {
   "metadata": {},
   "cell_type": "markdown",
   "source": "进行平移，得到矫正过后的图像",
   "id": "89974311236fc8a"
  },
  {
   "metadata": {},
   "cell_type": "code",
   "source": [
    "# save_path = \"E:/python/projects/alfven/data/transform_data/\"\n",
    "# \n",
    "# with ThreadPoolExecutor() as executor:\n",
    "#     futures = {executor.submit(offset_hri, file, file_fsi, save_path): file for file in files}\n",
    "# \n",
    "#     for future in tqdm(as_completed(futures), total=len(files), desc=\"Processing files\"):\n",
    "#         future.result()"
   ],
   "id": "67f801b50a37564a",
   "outputs": [],
   "execution_count": null
  },
  {
   "metadata": {},
   "cell_type": "markdown",
   "source": "# 使用workshop中的方法进行矫正",
   "id": "600c0ba9673603d3"
  },
  {
   "metadata": {
    "ExecuteTime": {
     "end_time": "2024-10-12T12:47:36.100455Z",
     "start_time": "2024-10-12T12:47:36.088970Z"
    }
   },
   "cell_type": "code",
   "source": [
    "def get_diff(hri, fsi, c_x, c_y, l, offset):\n",
    "    hri_offset = offset_map(hri, offset, unit='arcsec')\n",
    "    hri_data = get_submap(hri_offset, c_x=c_x, c_y=c_y, l=l, draw=False).data\n",
    "    fsi_data = get_submap(fsi, c_x=c_x, c_y=c_y, l=l, draw=False).data\n",
    "    \n",
    "    def normalize(image):\n",
    "        return (image - np.mean(image)) / np.std(image)\n",
    "    \n",
    "    return np.nansum(np.abs(normalize(hri_data)-normalize(fsi_data)))"
   ],
   "id": "ba94a03e8b53ecd6",
   "outputs": [],
   "execution_count": 12
  },
  {
   "metadata": {
    "ExecuteTime": {
     "end_time": "2024-10-12T12:47:36.283958Z",
     "start_time": "2024-10-12T12:47:36.263833Z"
    }
   },
   "cell_type": "code",
   "source": [
    "def iterate_alignment(hri, fsi, c_x, c_y, l, accuracy, offset_range):\n",
    "    accuracy = np.array(accuracy)\n",
    "    range_x, range_y = offset_range[0], offset_range[1]\n",
    "    min_diff = np.inf\n",
    "    best_offset = (0, 0)\n",
    "    for a in accuracy:\n",
    "        offset_vect_x = np.arange(range_x[0], range_x[1]+a, a)\n",
    "        offset_vect_y = np.arange(range_y[0], range_y[1]+a, a)\n",
    "        offsets = list(itertools.product(offset_vect_x, offset_vect_y))\n",
    "        \n",
    "        with ThreadPoolExecutor() as executor:\n",
    "            futures = {executor.submit(get_diff, hri, fsi, c_x, c_y, l, offset): offset for offset in offsets}\n",
    "            for future in tqdm(as_completed(futures), total=len(offsets), desc=f\"computing best offset, accracy: {a}\", leave=False):\n",
    "                diff = future.result()\n",
    "                if diff < min_diff:\n",
    "                    min_diff = diff\n",
    "                    best_offset = futures[future]\n",
    "                    \n",
    "        range_x = (best_offset[0]-a, best_offset[0]+a)\n",
    "        range_y = (best_offset[1]-a, best_offset[1]+a)\n",
    "    \n",
    "    return best_offset"
   ],
   "id": "498abe773a5d0246",
   "outputs": [],
   "execution_count": 13
  },
  {
   "metadata": {},
   "cell_type": "markdown",
   "source": "先来手动调整，找一个合适的offset范围，可以看到，在角秒偏移为offset_crval1=20, offset_crval2=10时，比较吻合图像",
   "id": "ff4f09dbf2fe6225"
  },
  {
   "metadata": {},
   "cell_type": "code",
   "source": "compare_gif(file_fsi, files[195], './fig/fsi_vs_hri.gif', l=1600, offset=(15, 8), unit='arcsec')",
   "id": "49fc013a9a033609",
   "outputs": [],
   "execution_count": null
  },
  {
   "metadata": {},
   "cell_type": "markdown",
   "source": "因此设定初始查找范围为offset_x_range=(17, 23), offset_y_range=(7, 13)",
   "id": "ce51001fa89fba79"
  },
  {
   "metadata": {},
   "cell_type": "code",
   "source": [
    "best_x, best_y = iterate_alignment(files[196], files[195], c_x=-100, c_y=-2700, l=1200, \n",
    "                                   offset_range=((-3, 3), (-3, 3)), accuracy=[1, 0.5, 0.2, 0.05])"
   ],
   "id": "9d7e0d21f34356a1",
   "outputs": [],
   "execution_count": null
  },
  {
   "metadata": {},
   "cell_type": "code",
   "source": "compare_gif(file_fsi, files[196], './fig/fsi_vs_hri.gif', l=1600, offset=(14, 8), unit='arcsec')",
   "id": "33983d1a4dffcdce",
   "outputs": [],
   "execution_count": null
  },
  {
   "metadata": {},
   "cell_type": "code",
   "source": [
    "file0 = files[295]\n",
    "needed_files = files[295:504]"
   ],
   "id": "31cd6f080e350aed",
   "outputs": [],
   "execution_count": null
  },
  {
   "metadata": {},
   "cell_type": "code",
   "source": [
    "offset_vect = []\n",
    "for file in tqdm(needed_files):\n",
    "    best_offset = iterate_alignment(file, file0, c_x=-100, c_y=-2700, l=1200, \n",
    "                                   offset_range=((-3, 3), (-3, 3)), accuracy=[1, 0.5, 0.2, 0.05])\n",
    "    offset_vect.append(best_offset)"
   ],
   "id": "e911f5982765a67d",
   "outputs": [],
   "execution_count": null
  },
  {
   "metadata": {},
   "cell_type": "markdown",
   "source": "在工作站得到平移数组，查看效果",
   "id": "62c038319cd6d04b"
  },
  {
   "metadata": {
    "ExecuteTime": {
     "end_time": "2024-10-12T14:32:09.829366Z",
     "start_time": "2024-10-12T14:32:09.805782Z"
    }
   },
   "cell_type": "code",
   "source": [
    "offset_vect = np.load('./data/offset_array.npy')\n",
    "offset_vect = np.round(offset_vect, 2)\n",
    "st_files = files[295:504]"
   ],
   "id": "df5dff4646924628",
   "outputs": [],
   "execution_count": 7
  },
  {
   "metadata": {
    "ExecuteTime": {
     "end_time": "2024-10-12T12:49:04.174525Z",
     "start_time": "2024-10-12T12:47:40.216750Z"
    }
   },
   "cell_type": "code",
   "source": [
    "x0, y0 = iterate_alignment(files[295], file_fsi, c_x=-100, c_y=-2700, l=1200, \n",
    "                           offset_range=((16, 19), (6, 9)), accuracy=[1, 0.5, 0.2, 0.05])\n",
    "x0 = np.round(x0, 2)\n",
    "y0 = np.round(y0, 2)"
   ],
   "id": "f38bb67127beb314",
   "outputs": [
    {
     "data": {
      "text/plain": [
       "computing best offset, accracy: 1.0:   0%|          | 0/16 [00:00<?, ?it/s]"
      ],
      "application/vnd.jupyter.widget-view+json": {
       "version_major": 2,
       "version_minor": 0,
       "model_id": "e310030175d44d42a376b94a2be8b1a9"
      }
     },
     "metadata": {},
     "output_type": "display_data"
    },
    {
     "data": {
      "text/plain": [
       "computing best offset, accracy: 0.5:   0%|          | 0/25 [00:00<?, ?it/s]"
      ],
      "application/vnd.jupyter.widget-view+json": {
       "version_major": 2,
       "version_minor": 0,
       "model_id": "786385b10607416c9a419bad8556cd77"
      }
     },
     "metadata": {},
     "output_type": "display_data"
    },
    {
     "data": {
      "text/plain": [
       "computing best offset, accracy: 0.2:   0%|          | 0/42 [00:00<?, ?it/s]"
      ],
      "application/vnd.jupyter.widget-view+json": {
       "version_major": 2,
       "version_minor": 0,
       "model_id": "bc029fd1a2e7442a8b4f7a2a6336de66"
      }
     },
     "metadata": {},
     "output_type": "display_data"
    },
    {
     "data": {
      "text/plain": [
       "computing best offset, accracy: 0.05:   0%|          | 0/90 [00:00<?, ?it/s]"
      ],
      "application/vnd.jupyter.widget-view+json": {
       "version_major": 2,
       "version_minor": 0,
       "model_id": "e043ac62940f4cae8286a687a26764a3"
      }
     },
     "metadata": {},
     "output_type": "display_data"
    }
   ],
   "execution_count": 14
  },
  {
   "metadata": {
    "ExecuteTime": {
     "end_time": "2024-10-12T12:12:15.100530Z",
     "start_time": "2024-10-12T12:12:10.654292Z"
    }
   },
   "cell_type": "code",
   "source": "compare_gif(file_fsi, files[295], './fig/fsi_vs_hri.gif', l=1600, offset=(x0, y0), unit='arcsec')",
   "id": "c8cfd9d362514511",
   "outputs": [
    {
     "data": {
      "text/plain": [
       "<IPython.core.display.HTML object>"
      ],
      "text/html": [
       "<img src=fig\\fsi_vs_hri.gif?1728735135 height=\"480\">"
      ]
     },
     "execution_count": 22,
     "metadata": {},
     "output_type": "execute_result"
    }
   ],
   "execution_count": 22
  },
  {
   "metadata": {
    "ExecuteTime": {
     "end_time": "2024-10-12T12:49:32.846621Z",
     "start_time": "2024-10-12T12:49:13.892393Z"
    }
   },
   "cell_type": "code",
   "source": [
    "offset_file_fold = \"E:/python/projects/alfven/data/hrieuvopn/offset_data/\"\n",
    "\n",
    "for i, file in tqdm(enumerate(st_files), total=len(st_files), desc='offseting'):\n",
    "    offset = offset_vect[i]\n",
    "    offseted_map = offset_map(file, offset=(x0, y0), unit='arcsec')\n",
    "    offseted_map.save(offset_file_fold+offseted_map.fits_header['filename'], filetype='fits', overwrite=True)"
   ],
   "id": "de3a928f99c6181",
   "outputs": [
    {
     "data": {
      "text/plain": [
       "offseting:   0%|          | 0/209 [00:00<?, ?it/s]"
      ],
      "application/vnd.jupyter.widget-view+json": {
       "version_major": 2,
       "version_minor": 0,
       "model_id": "3f8547e59c9548a9b28a06b263a80cd7"
      }
     },
     "metadata": {},
     "output_type": "display_data"
    },
    {
     "name": "stderr",
     "output_type": "stream",
     "text": [
      "WARNING: SunpyMetadataWarning: The meta key  is not valid ascii, dropping from the FITS header [sunpy.io._fits]\n",
      "WARNING: VerifyWarning: Invalid 'BLANK' keyword in header.  The 'BLANK' keyword is only applicable to integer data, and will be ignored in this HDU. [astropy.io.fits.hdu.image]\n"
     ]
    }
   ],
   "execution_count": 15
  },
  {
   "metadata": {
    "ExecuteTime": {
     "end_time": "2024-10-17T09:03:45.040480Z",
     "start_time": "2024-10-17T09:03:45.028479Z"
    }
   },
   "cell_type": "code",
   "source": [
    "offset_file_path = \"./data/hrieuvopn/offset_data/10moving/\"\n",
    "offset_files = [os.path.abspath(os.path.join(offset_file_path, file)) for file in os.listdir(offset_file_path) if file.endswith('.fits')]\n",
    "def extract_datetime(file_name):\n",
    "    match = re.search(r'\\d{8}T\\d{6}', file_name)\n",
    "    if match:\n",
    "        return datetime.strptime(match.group(), '%Y%m%dT%H%M%S')\n",
    "    else:\n",
    "        return datetime.min\n",
    "\n",
    "offset_files = sorted(offset_files, key=extract_datetime)"
   ],
   "id": "918ab09a64c41354",
   "outputs": [],
   "execution_count": 4
  },
  {
   "metadata": {
    "ExecuteTime": {
     "end_time": "2024-10-17T09:03:55.203258Z",
     "start_time": "2024-10-17T09:03:54.121794Z"
    }
   },
   "cell_type": "code",
   "source": [
    "compare_gif(offset_files[30], offset_files[31], './fig/fsi_vs_hri.gif',\n",
    "            c_x=0, c_y=-3000, l=200, offset=None, unit='arcsec')"
   ],
   "id": "8718dfc9442656df",
   "outputs": [
    {
     "data": {
      "text/plain": [
       "<IPython.core.display.HTML object>"
      ],
      "text/html": [
       "<img src=fig\\fsi_vs_hri.gif?1729155835 height=\"480\">"
      ]
     },
     "execution_count": 5,
     "metadata": {},
     "output_type": "execute_result"
    }
   ],
   "execution_count": 5
  },
  {
   "metadata": {},
   "cell_type": "code",
   "outputs": [],
   "execution_count": null,
   "source": "",
   "id": "ec17be22463274e"
  }
 ],
 "metadata": {
  "kernelspec": {
   "display_name": "Python 3",
   "language": "python",
   "name": "python3"
  },
  "language_info": {
   "codemirror_mode": {
    "name": "ipython",
    "version": 2
   },
   "file_extension": ".py",
   "mimetype": "text/x-python",
   "name": "python",
   "nbconvert_exporter": "python",
   "pygments_lexer": "ipython2",
   "version": "2.7.6"
  }
 },
 "nbformat": 4,
 "nbformat_minor": 5
}
