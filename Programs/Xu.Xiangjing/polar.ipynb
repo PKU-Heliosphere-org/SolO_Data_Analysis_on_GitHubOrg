{
 "cells": [
  {
   "cell_type": "code",
   "execution_count": null,
   "outputs": [],
   "source": [
    "import numpy as np\n",
    "import concurrent.futures\n",
    "from tqdm import tqdm\n",
    "import Sunlimb\n",
    "import importlib\n",
    "from scipy.ndimage import map_coordinates\n",
    "importlib.reload(Sunlimb)\n",
    "%matplotlib notebook"
   ],
   "metadata": {
    "collapsed": false
   },
   "id": "ded65e009ef6e766"
  },
  {
   "cell_type": "code",
   "execution_count": null,
   "outputs": [],
   "source": [
    "def count_value(pix, pix0, data0, delta, rsun_arc, crota, cdelt1, cdelt2, max_x, max_y, euv_map_data, order=1):\n",
    "    \"\"\"\n",
    "    计算极坐标图像像素点处对应的值\n",
    "    :param pix: 元组，行列像素\n",
    "    :param pix0: 元组，太阳中心点对应的笛卡尔坐标行列像素\n",
    "    :param data0: 元组，行列起始处的像素点对应的值\n",
    "    :param delta: 元组，行列每像素对应的\n",
    "    :param rsun_arc: 太阳半径的角秒数\n",
    "    :param crota: 图像的旋转角度\n",
    "    :param cdelt1: 每像素的横向分辨率\n",
    "    :param cdelt2: 每像素的纵向分辨率\n",
    "    :param max_x: 横轴最大像素值\n",
    "    :param max_y: 纵轴最大像素值\n",
    "    :param euv_map_data: sunpy.Map.map.data\n",
    "    :param order: 默认为1，表示双线性插值\n",
    "    :return: 对应像素点的值\n",
    "    \"\"\"\n",
    "    r = (pix[0] - 0.5) * delta[0] + data0[0] * rsun_arc\n",
    "    theta = ((pix[1] - 0.5) * delta[1] + data0[1] + crota) / 180 * np.pi\n",
    "\n",
    "    pix_x = r * np.sin(theta) / cdelt1 + pix0[1]\n",
    "    pix_y = pix0[0] - r * np.cos(theta) / cdelt2\n",
    "\n",
    "    if 1 <= pix_x <= max_x and 1 <= pix_y <= max_y:\n",
    "        coords = np.array([[pix_y - 1, pix_x - 1]]).T\n",
    "        return pix[0], pix[1], map_coordinates(euv_map_data, coords, order=order)[0]\n",
    "    else:\n",
    "        return pix[0], pix[1], np.nan\n",
    "\n",
    "\n",
    "def to_polar(euv_map, r_range, deg_range, order=1, **kwargs):\n",
    "    \"\"\"\n",
    "    坐标转换\n",
    "    :param euv_map: 原始sunpy.Map.map对象\n",
    "    :param r_range: 径向坐标范围\n",
    "    :param deg_range: 角度范围，北极点算0度，顺时针增加\n",
    "    :param kwargs: deg_pix, r_pix, 分别代表每像素的角度值、角秒值\n",
    "    :param order: 默认为1，表示双线性插值\n",
    "    :return:\n",
    "    \"\"\"\n",
    "    rsun_arc = euv_map.fits_header['RSUN_ARC']\n",
    "    crota = euv_map.fits_header['CROTA']\n",
    "    cdelt1 = euv_map.fits_header['CDELT1']\n",
    "    cdelt2 = euv_map.fits_header['CDELT2']\n",
    "    max_x = euv_map.fits_header[\"NAXIS1\"]\n",
    "    max_y = euv_map.fits_header[\"NAXIS2\"]\n",
    "    euv_map_data = euv_map.data\n",
    "    \n",
    "    deg_pix = kwargs.get('deg_pix', cdelt1 / rsun_arc * 180 / np.pi)\n",
    "    r_pix = kwargs.get('r_pix', cdelt1)\n",
    "\n",
    "    # 计算太阳中心点的像素\n",
    "    # dpix1 = euv_map.fits_header['CRVAL1'] / cdelt1\n",
    "    # dpix2 = euv_map.fits_header['CRVAL2'] / cdelt1\n",
    "    # rota = crota / 180 * np.pi\n",
    "    # pix_x0 = euv_map.fits_header['CRPIX1'] - dpix1 * np.cos(rota) - dpix2 * np.sin(rota)\n",
    "    # pix_y0 = euv_map.fits_header['CRPIX2'] - dpix1 * np.sin(rota) + dpix2 * np.cos(rota)\n",
    "    pix_x0 = euv_map.fits_header['EUXCEN']\n",
    "    pix_y0 = max_y - euv_map.fits_header['EUYCEN'] + 1\n",
    "\n",
    "    shape = (int((r_range[1] - r_range[0]) * rsun_arc / r_pix), int((deg_range[1] - deg_range[0]) / deg_pix))\n",
    "    deg_arr = np.arange(deg_range[0] + 0.5 * deg_pix, deg_range[0] + shape[1] * deg_pix, deg_pix)\n",
    "    r_arr = np.arange(r_range[0] + 0.5 * r_pix / rsun_arc, r_range[0] + shape[0] * r_pix / rsun_arc, r_pix / rsun_arc)\n",
    "\n",
    "    tasks = [((i, j), (pix_y0, pix_x0), (r_range[0], deg_range[0]), (r_pix, deg_pix), rsun_arc, crota, cdelt1, cdelt2,\n",
    "              max_x, max_y, euv_map_data, order)\n",
    "             for i in range(1, shape[0] + 1) for j in range(1, shape[1] + 1)]\n",
    "\n",
    "    polar_data = np.empty(shape=shape)\n",
    "\n",
    "    with concurrent.futures.ThreadPoolExecutor() as executor:\n",
    "        results = list(tqdm(executor.map(lambda p: count_value(*p), tasks), total=len(tasks), desc=\"Processing\"))\n",
    "\n",
    "    for x, y, value in results:\n",
    "        polar_data[x - 1, y - 1] = value\n",
    "\n",
    "    return np.flipud(polar_data), r_arr, deg_arr"
   ],
   "metadata": {
    "collapsed": false
   },
   "id": "c5fef1a4d42661c3"
  },
  {
   "cell_type": "code",
   "execution_count": null,
   "outputs": [],
   "source": [
    "example = Sunlimb.Sun(\"E:/python/projects/alfven/data/solo_L2_eui-hrieuvopn-image_20220330T043000227_V02.fits\", num_azimuth_bins=3600)"
   ],
   "metadata": {
    "collapsed": false
   },
   "id": "24c00d885c6cbf22"
  },
  {
   "cell_type": "code",
   "execution_count": null,
   "outputs": [],
   "source": [
    "polar_data, r_arr, deg_arr = to_polar(example.euv_map, (0.8, 1.15), (170, 180), deg_pix=0.01)"
   ],
   "metadata": {
    "collapsed": false
   },
   "id": "49148d81a6c6e877"
  },
  {
   "cell_type": "code",
   "execution_count": null,
   "outputs": [],
   "source": [
    "fig = Sunlimb.plot_data(polar_data, deg_arr, r_arr, title=example.header['DATE-OBS'])"
   ],
   "metadata": {
    "collapsed": false
   },
   "id": "e99b6ea3682ddd06"
  },
  {
   "cell_type": "code",
   "execution_count": null,
   "outputs": [],
   "source": [],
   "metadata": {
    "collapsed": false
   },
   "id": "12a388c3361e02bc"
  }
 ],
 "metadata": {
  "kernelspec": {
   "display_name": "Python 3",
   "language": "python",
   "name": "python3"
  },
  "language_info": {
   "codemirror_mode": {
    "name": "ipython",
    "version": 2
   },
   "file_extension": ".py",
   "mimetype": "text/x-python",
   "name": "python",
   "nbconvert_exporter": "python",
   "pygments_lexer": "ipython2",
   "version": "2.7.6"
  }
 },
 "nbformat": 4,
 "nbformat_minor": 5
}
